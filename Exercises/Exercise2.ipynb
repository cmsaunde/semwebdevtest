{
 "cells": [
  {
   "cell_type": "markdown",
   "metadata": {},
   "source": [
    "## Exercise 2"
   ]
  },
  {
   "cell_type": "markdown",
   "metadata": {},
   "source": [
    "Exercise 2 includes two files:\n",
    " * wine.py include all the solution\n",
    " * test_wine.py unit test for wine.py"
   ]
  },
  {
   "cell_type": "code",
   "execution_count": 1,
   "metadata": {},
   "outputs": [],
   "source": [
    "from owlready2 import get_ontology\n",
    "from owlready2 import sync_reasoner"
   ]
  },
  {
   "cell_type": "markdown",
   "metadata": {},
   "source": [
    "#### 1. List all grape growing regions (in the ontology)\n",
    "* before get the result, runing the HermiT to reason the ontology\n",
    "* return list"
   ]
  },
  {
   "cell_type": "code",
   "execution_count": 2,
   "metadata": {},
   "outputs": [],
   "source": [
    "# List all grape growing regions (in the ontology)\n",
    "def get_all_regions():\n",
    "    '''\n",
    "    Get all grape growing regions\n",
    "    :return: List of grape growing regions\n",
    "    '''\n",
    "    onto = get_ontology('file://./wine.owl').load()\n",
    "    with onto:\n",
    "        sync_reasoner()\n",
    "        return [x.name for x in onto.region.instances()]"
   ]
  },
  {
   "cell_type": "markdown",
   "metadata": {},
   "source": [
    "#### 2. List all varietals (in the ontology)\n",
    "* before get the result, runing the HermiT to reason the ontology\n",
    "* tranverse whole branch to get all subclasses\n",
    "* include 'also_called' value\n",
    "* return list\n"
   ]
  },
  {
   "cell_type": "code",
   "execution_count": 3,
   "metadata": {},
   "outputs": [],
   "source": [
    "def get_all_varietals():\n",
    "    '''\n",
    "    Get all grape varietals, include also_called\n",
    "    :return: List of grape varietals\n",
    "    '''\n",
    "    onto = get_ontology('file://./wine.owl').load()\n",
    "    with onto:\n",
    "        sync_reasoner()\n",
    "        subs = onto.varietal.descendants()\n",
    "        subs.remove(onto.varietal)\n",
    "        res = [x.name for x in subs]\n",
    "        for c in subs:\n",
    "            if len(c.also_called) > 0:\n",
    "                res += c.also_called\n",
    "        return res"
   ]
  },
  {
   "cell_type": "markdown",
   "metadata": {},
   "source": [
    "#### 3. List all types (classes) of wine (in the ontology)\n",
    "* before get the result, runing the HermiT to reason the ontology\n",
    "* tranverse whole branch to get all subclasses\n",
    "* return list"
   ]
  },
  {
   "cell_type": "code",
   "execution_count": 4,
   "metadata": {},
   "outputs": [],
   "source": [
    "def get_all_types():\n",
    "    '''\n",
    "    List all types of wine\n",
    "    :return: List of wine types\n",
    "    '''\n",
    "    onto = get_ontology('file://./wine.owl').load()\n",
    "    with onto:\n",
    "        sync_reasoner()\n",
    "        subs = onto.color.descendants()\n",
    "        subs.remove(onto.color)\n",
    "        return [x.name for x in subs]"
   ]
  },
  {
   "cell_type": "markdown",
   "metadata": {},
   "source": [
    "#### 4. Query for wine types and individual wines by: colour, varietal, region\n",
    "* before get the result, runing the HermiT to reason the ontology\n",
    "* three parameters, default value = None\n",
    "* caputure instances of the entities\n",
    "* remove duplicates"
   ]
  },
  {
   "cell_type": "code",
   "execution_count": 5,
   "metadata": {},
   "outputs": [],
   "source": [
    "# Query for wine types and individual wines by: colour, varietal, region\n",
    "def query(color=None, varietal=None, region=None):\n",
    "    '''\n",
    "    :param color: wine color\n",
    "    :param varietal: grape varietal\n",
    "    :param region: region\n",
    "    :return: types and individuals by given colour, varietal and region\n",
    "    '''\n",
    "    onto = get_ontology('file://./wine.owl').load()\n",
    "    with onto:\n",
    "        sync_reasoner()\n",
    "        wines = onto.wine.descendants()\n",
    "        wines.remove(onto.wine)\n",
    "        res = list(wines.copy())\n",
    "        for wine in wines:\n",
    "            if color:\n",
    "                wine_c = [x.name.lower() for x in wine.has_color]\n",
    "                if color.lower() not in wine_c:\n",
    "                    res.remove(wine)\n",
    "                    continue\n",
    "            if varietal:\n",
    "                wine_v = [x.name.lower() for x in wine.made_from]\n",
    "                if varietal.lower() not in wine_v:\n",
    "                    res.remove(wine)\n",
    "                    continue\n",
    "            if region:\n",
    "                wine_r = [x.name.lower() for x in wine.grown_in]\n",
    "                if region.lower() not in wine_r:\n",
    "                    res.remove(wine)\n",
    "                    continue\n",
    "\n",
    "        for i in res:\n",
    "            try:\n",
    "                if len(i.instances()) > 0:\n",
    "                    inst = i.instances()\n",
    "                    res += inst\n",
    "            except:\n",
    "                pass\n",
    "        return list(set([x.name for x in res]))"
   ]
  },
  {
   "cell_type": "markdown",
   "metadata": {},
   "source": [
    "### Test file\n",
    "1. get_all_regions()\n",
    "2. get_all_varietals()\n",
    "3. get_all_types()\n",
    "4. query() # all None values\n",
    "5. query(varietal='Canaiolo', region='Chianti') # with varietal & region values\n",
    "6. query(color='red', region='Piedmont') # with color & region\n",
    "7. query(color='red') # color only\n",
    "8. query(color='blue') # unmatch"
   ]
  },
  {
   "cell_type": "code",
   "execution_count": null,
   "metadata": {},
   "outputs": [],
   "source": []
  }
 ],
 "metadata": {
  "kernelspec": {
   "display_name": "Python 3",
   "language": "python",
   "name": "python3"
  },
  "language_info": {
   "codemirror_mode": {
    "name": "ipython",
    "version": 3
   },
   "file_extension": ".py",
   "mimetype": "text/x-python",
   "name": "python",
   "nbconvert_exporter": "python",
   "pygments_lexer": "ipython3",
   "version": "3.7.5"
  }
 },
 "nbformat": 4,
 "nbformat_minor": 4
}
